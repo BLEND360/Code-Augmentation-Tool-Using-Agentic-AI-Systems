{
 "cells": [
  {
   "cell_type": "code",
   "execution_count": 1,
   "id": "ba966d7b-f255-41cf-b1f4-34c5c17899f6",
   "metadata": {},
   "outputs": [],
   "source": [
    "# Save this in your notebook cell\n",
    "code = \"\"\"\n",
    "import streamlit as st\n",
    "\n",
    "st.title(\"Hello from Streamlit!\")\n",
    "st.write(\"This app is launched from Jupyter Notebook.\")\n",
    "\"\"\"\n",
    "with open(\"app.py\", \"w\") as f:\n",
    "    f.write(code)\n"
   ]
  },
  {
   "cell_type": "code",
   "execution_count": null,
   "id": "6eefaabd-1c84-479f-8656-e4466e929fae",
   "metadata": {},
   "outputs": [],
   "source": [
    "!streamlit run nbcu_demo.py"
   ]
  },
  {
   "cell_type": "code",
   "execution_count": null,
   "id": "e1886a37-f630-419b-a03e-fff13d614e1c",
   "metadata": {},
   "outputs": [],
   "source": []
  }
 ],
 "metadata": {
  "kernelspec": {
   "display_name": "Python 3 (ipykernel)",
   "language": "python",
   "name": "python3"
  },
  "language_info": {
   "codemirror_mode": {
    "name": "ipython",
    "version": 3
   },
   "file_extension": ".py",
   "mimetype": "text/x-python",
   "name": "python",
   "nbconvert_exporter": "python",
   "pygments_lexer": "ipython3",
   "version": "3.12.4"
  }
 },
 "nbformat": 4,
 "nbformat_minor": 5
}
