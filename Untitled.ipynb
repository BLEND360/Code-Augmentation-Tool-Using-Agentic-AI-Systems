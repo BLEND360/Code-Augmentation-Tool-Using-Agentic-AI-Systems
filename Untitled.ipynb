{
 "cells": [
  {
   "cell_type": "code",
   "execution_count": 5,
   "id": "ba966d7b-f255-41cf-b1f4-34c5c17899f6",
   "metadata": {},
   "outputs": [],
   "source": [
    "# Save this in your notebook cell\n",
    "code = \"\"\"\n",
    "import streamlit as st\n",
    "\n",
    "st.title(\"Hello from Streamlit!\")\n",
    "st.write(\"This app is launched from Jupyter Notebook.\")\n",
    "\"\"\"\n",
    "with open(\"app.py\", \"w\") as f:\n",
    "    f.write(code)\n"
   ]
  },
  {
   "cell_type": "code",
   "execution_count": 6,
   "id": "6eefaabd-1c84-479f-8656-e4466e929fae",
   "metadata": {},
   "outputs": [
    {
     "name": "stdout",
     "output_type": "stream",
     "text": [
      "^C\n",
      "\n",
      "  You can now view your Streamlit app in your browser.\n",
      "\n",
      "  Local URL: http://localhost:8505\n",
      "  Network URL: http://10.20.189.248:8505\n",
      "\n"
     ]
    },
    {
     "name": "stderr",
     "output_type": "stream",
     "text": [
      "2025-04-03 18:32:23.078 Uncaught app exception\n",
      "Traceback (most recent call last):\n",
      "  File \"C:\\Users\\RiyaSharma\\anaconda3\\Lib\\site-packages\\streamlit\\runtime\\scriptrunner\\script_runner.py\", line 542, in _run_script\n",
      "    exec(code, module.__dict__)\n",
      "  File \"C:\\Users\\RiyaSharma\\Documents\\git\\CodeAug2\\Code-Augmentation-Tool-Using-Agentic-AI-Systems\\nbcu_demo.py\", line 62, in <module>\n",
      "    workflow = StateGraph(ConverterState)\n",
      "                          ^^^^^^^^^^^^^^\n",
      "NameError: name 'ConverterState' is not defined\n",
      "2025-04-03 18:34:01.133 Uncaught app exception\n",
      "Traceback (most recent call last):\n",
      "  File \"C:\\Users\\RiyaSharma\\anaconda3\\Lib\\site-packages\\streamlit\\runtime\\scriptrunner\\script_runner.py\", line 542, in _run_script\n",
      "    exec(code, module.__dict__)\n",
      "  File \"C:\\Users\\RiyaSharma\\Documents\\git\\CodeAug2\\Code-Augmentation-Tool-Using-Agentic-AI-Systems\\nbcu_demo.py\", line 59, in <module>\n",
      "    workflow = StateGraph(ConverterState)\n",
      "                          ^^^^^^^^^^^^^^\n",
      "NameError: name 'ConverterState' is not defined\n",
      "2025-04-03 18:35:04.205 Uncaught app exception\n",
      "Traceback (most recent call last):\n",
      "  File \"C:\\Users\\RiyaSharma\\anaconda3\\Lib\\site-packages\\streamlit\\runtime\\scriptrunner\\script_runner.py\", line 542, in _run_script\n",
      "    exec(code, module.__dict__)\n",
      "  File \"C:\\Users\\RiyaSharma\\Documents\\git\\CodeAug2\\Code-Augmentation-Tool-Using-Agentic-AI-Systems\\nbcu_demo.py\", line 59, in <module>\n",
      "    workflow = StateGraph(ConverterState)\n",
      "                          ^^^^^^^^^^^^^^\n",
      "NameError: name 'ConverterState' is not defined\n",
      "2025-04-03 18:58:34.525 Uncaught app exception\n",
      "Traceback (most recent call last):\n",
      "  File \"C:\\Users\\RiyaSharma\\anaconda3\\Lib\\site-packages\\streamlit\\runtime\\scriptrunner\\script_runner.py\", line 542, in _run_script\n",
      "    exec(code, module.__dict__)\n",
      "  File \"C:\\Users\\RiyaSharma\\Documents\\git\\CodeAug2\\Code-Augmentation-Tool-Using-Agentic-AI-Systems\\nbcu_demo.py\", line 17, in <module>\n",
      "    from services.utils import extract_table_column_errors\n",
      "ModuleNotFoundError: No module named 'services.utils'\n"
     ]
    }
   ],
   "source": [
    "!streamlit run nbcu_demo.py"
   ]
  },
  {
   "cell_type": "code",
   "execution_count": null,
   "id": "e1886a37-f630-419b-a03e-fff13d614e1c",
   "metadata": {},
   "outputs": [],
   "source": []
  }
 ],
 "metadata": {
  "kernelspec": {
   "display_name": "Python 3 (ipykernel)",
   "language": "python",
   "name": "python3"
  },
  "language_info": {
   "codemirror_mode": {
    "name": "ipython",
    "version": 3
   },
   "file_extension": ".py",
   "mimetype": "text/x-python",
   "name": "python",
   "nbconvert_exporter": "python",
   "pygments_lexer": "ipython3",
   "version": "3.12.4"
  }
 },
 "nbformat": 4,
 "nbformat_minor": 5
}
