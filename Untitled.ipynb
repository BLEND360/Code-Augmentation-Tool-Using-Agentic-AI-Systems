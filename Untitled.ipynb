{
 "cells": [
  {
   "cell_type": "code",
   "execution_count": 1,
   "id": "7ffcfff4-4091-4bdb-8605-c33d0ca44228",
   "metadata": {},
   "outputs": [],
   "source": [
    "# Save this in your notebook cell\n",
    "code = \"\"\"\n",
    "import streamlit as st\n",
    "\n",
    "st.title(\"Hello from Streamlit!\")\n",
    "st.write(\"This app is launched from Jupyter Notebook.\")\n",
    "\"\"\"\n",
    "with open(\"app.py\", \"w\") as f:\n",
    "    f.write(code)\n"
   ]
  },
  {
   "cell_type": "code",
   "execution_count": null,
   "id": "9300b50d-aa5a-42e4-8d76-be567155a1ff",
   "metadata": {},
   "outputs": [],
   "source": [
    "!streamlit run nbcu_demo.py"
   ]
  },
  {
   "cell_type": "code",
   "execution_count": null,
   "id": "9eb22fae-81ba-46ed-b08c-4a36d036bad5",
   "metadata": {},
   "outputs": [],
   "source": []
  }
 ],
 "metadata": {
  "kernelspec": {
   "display_name": "Python 3 (ipykernel)",
   "language": "python",
   "name": "python3"
  },
  "language_info": {
   "codemirror_mode": {
    "name": "ipython",
    "version": 3
   },
   "file_extension": ".py",
   "mimetype": "text/x-python",
   "name": "python",
   "nbconvert_exporter": "python",
   "pygments_lexer": "ipython3",
   "version": "3.12.4"
  }
 },
 "nbformat": 4,
 "nbformat_minor": 5
}
