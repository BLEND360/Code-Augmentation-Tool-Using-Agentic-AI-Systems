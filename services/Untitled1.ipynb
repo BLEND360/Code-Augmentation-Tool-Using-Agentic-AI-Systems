{
 "cells": [
  {
   "cell_type": "code",
   "execution_count": 1,
   "id": "f8be6b94-9b9e-4977-9f7c-acb365f87d83",
   "metadata": {},
   "outputs": [],
   "source": [
    "# Save this in your notebook cell\n",
    "code = \"\"\"\n",
    "import streamlit as st\n",
    "\n",
    "st.title(\"Hello from Streamlit!\")\n",
    "st.write(\"This app is launched from Jupyter Notebook.\")\n",
    "\"\"\"\n",
    "with open(\"app.py\", \"w\") as f:\n",
    "    f.write(code)\n"
   ]
  },
  {
   "cell_type": "code",
   "execution_count": 2,
   "id": "0b3f4b6c-e65d-4791-9a30-996f67e4975f",
   "metadata": {},
   "outputs": [
    {
     "name": "stderr",
     "output_type": "stream",
     "text": [
      "Usage: streamlit run [OPTIONS] TARGET [ARGS]...\n",
      "Try 'streamlit run --help' for help.\n",
      "\n",
      "Error: Invalid value: File does not exist: nbcu_demo.py\n"
     ]
    }
   ],
   "source": [
    "!streamlit run nbcu_demo.py"
   ]
  },
  {
   "cell_type": "code",
   "execution_count": null,
   "id": "a324dafe-0079-4a88-a8fa-f89ef70ef4b1",
   "metadata": {},
   "outputs": [],
   "source": []
  }
 ],
 "metadata": {
  "kernelspec": {
   "display_name": "Python 3 (ipykernel)",
   "language": "python",
   "name": "python3"
  },
  "language_info": {
   "codemirror_mode": {
    "name": "ipython",
    "version": 3
   },
   "file_extension": ".py",
   "mimetype": "text/x-python",
   "name": "python",
   "nbconvert_exporter": "python",
   "pygments_lexer": "ipython3",
   "version": "3.12.4"
  }
 },
 "nbformat": 4,
 "nbformat_minor": 5
}
