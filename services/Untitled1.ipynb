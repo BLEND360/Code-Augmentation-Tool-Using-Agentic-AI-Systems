{
 "cells": [
  {
   "cell_type": "code",
   "execution_count": null,
   "id": "f8be6b94-9b9e-4977-9f7c-acb365f87d83",
   "metadata": {},
   "outputs": [],
   "source": [
    "def validate_table(table, unique_column, conn_sf, conn_db, db_name):\n",
    "    cur_sf = conn_sf.cursor()\n",
    "    cur_db = conn_db.cursor()\n",
    "\n",
    "    result = {\"table\": table, \"failures\": []}\n",
    "\n",
    "    try:\n",
    "        # Row counts\n",
    "        sf_count = fetch_scalar(cur_sf, f\"SELECT COUNT(*) FROM {table}\")\n",
    "        db_count = fetch_scalar(cur_db, f\"SELECT COUNT(*) FROM {db_name}.{table.lower()}\")\n",
    "        if sf_count != db_count:\n",
    "            result[\"failures\"].append({\"check\": \"row_count_match\", \"reason\": f\"Snowflake: {sf_count}, Databricks: {db_count}\"})\n",
    "    except Exception as e:\n",
    "        result[\"failures\"].append({\"check\": \"row_count_match\", \"reason\": str(e)})\n",
    "\n",
    "    try:\n",
    "        # Unique values\n",
    "        sf_unique = fetch_scalar(cur_sf, f\"SELECT COUNT(DISTINCT {unique_column}) FROM {table}\")\n",
    "        db_unique = fetch_scalar(cur_db, f\"SELECT COUNT(DISTINCT {unique_column}) FROM {db_name}.{table.lower()}\")\n",
    "        if sf_unique != db_unique:\n",
    "            result[\"failures\"].append({\"check\": \"unique_values_match\", \"reason\": f\"Snowflake: {sf_unique}, Databricks: {db_unique}\"})\n",
    "    except Exception as e:\n",
    "        result[\"failures\"].append({\"check\": \"unique_values_match\", \"reason\": str(e)})\n",
    "\n",
    "    try:\n",
    "        # Schema\n",
    "        sf_cols = fetch_column_names(cur_sf, f\"DESCRIBE TABLE {table}\")\n",
    "        db_cols = fetch_column_names(cur_db, f\"DESCRIBE TABLE {db_name}.{table.lower()}\")\n",
    "        if set(sf_cols) != set(db_cols):\n",
    "            result[\"failures\"].append({\"check\": \"schema_match\", \"reason\": f\"Columns mismatch. Snowflake: {sf_cols}, Databricks: {db_cols}\"})\n",
    "    except Exception as e:\n",
    "        result[\"failures\"].append({\"check\": \"schema_match\", \"reason\": str(e)})\n",
    "\n",
    "    cur_sf.close()\n",
    "    cur_db.close()\n",
    "    return result\n"
   ]
  }
 ],
 "metadata": {
  "kernelspec": {
   "display_name": "Python 3 (ipykernel)",
   "language": "python",
   "name": "python3"
  },
  "language_info": {
   "codemirror_mode": {
    "name": "ipython",
    "version": 3
   },
   "file_extension": ".py",
   "mimetype": "text/x-python",
   "name": "python",
   "nbconvert_exporter": "python",
   "pygments_lexer": "ipython3",
   "version": "3.12.4"
  }
 },
 "nbformat": 4,
 "nbformat_minor": 5
}
