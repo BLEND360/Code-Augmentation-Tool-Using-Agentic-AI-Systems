{
 "cells": [
  {
   "cell_type": "code",
   "execution_count": 1,
   "id": "86090e5a-cd63-4ce3-9aed-a1efcd6e3d50",
   "metadata": {},
   "outputs": [],
   "source": [
    "def connect_to_snowflake(sf_config):\n",
    "    return snowflake.connector.connect(\n",
    "        user=sf_config[\"user\"],\n",
    "        account=sf_config[\"account\"],\n",
    "        authenticator=sf_config[\"authenticator\"],\n",
    "        database=sf_config[\"database\"],\n",
    "        schema=sf_config[\"schema\"]\n",
    "    )\n",
    "\n",
    "def connect_to_databricks(db_config):\n",
    "    return sql.connect(\n",
    "        server_hostname=db_config[\"server_hostname\"],\n",
    "        http_path=db_config[\"http_path\"],\n",
    "        access_token=db_config[\"access_token\"]\n",
    "    )\n"
   ]
  },
  {
   "cell_type": "code",
   "execution_count": null,
   "id": "30779aa9-a24d-4bb7-ad6d-d47293e7040f",
   "metadata": {},
   "outputs": [],
   "source": []
  }
 ],
 "metadata": {
  "kernelspec": {
   "display_name": "Python 3 (ipykernel)",
   "language": "python",
   "name": "python3"
  },
  "language_info": {
   "codemirror_mode": {
    "name": "ipython",
    "version": 3
   },
   "file_extension": ".py",
   "mimetype": "text/x-python",
   "name": "python",
   "nbconvert_exporter": "python",
   "pygments_lexer": "ipython3",
   "version": "3.12.4"
  }
 },
 "nbformat": 4,
 "nbformat_minor": 5
}
